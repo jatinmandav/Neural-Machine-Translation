{
 "cells": [
  {
   "cell_type": "markdown",
   "metadata": {},
   "source": [
    "# Neural Machine Translation"
   ]
  },
  {
   "cell_type": "code",
   "execution_count": 1,
   "metadata": {
    "colab": {
     "base_uri": "https://localhost:8080/",
     "height": 34
    },
    "colab_type": "code",
    "executionInfo": {
     "elapsed": 16556,
     "status": "ok",
     "timestamp": 1561270089395,
     "user": {
      "displayName": "MANDAV",
      "photoUrl": "https://lh4.googleusercontent.com/-Zi5_ERBmNoM/AAAAAAAAAAI/AAAAAAAAA4U/x7o5V3Av1zw/s64/photo.jpg",
      "userId": "06372901974541954018"
     },
     "user_tz": -330
    },
    "id": "ESfnmA5SBUwI",
    "outputId": "0335a13d-b9dd-45ff-c745-73e560484374"
   },
   "outputs": [
    {
     "name": "stderr",
     "output_type": "stream",
     "text": [
      "Using TensorFlow backend.\n"
     ]
    }
   ],
   "source": [
    "import pandas as pd\n",
    "import numpy as np\n",
    "import string\n",
    "from string import digits\n",
    "import matplotlib.pyplot as plt\n",
    "%matplotlib inline\n",
    "import re\n",
    "import os\n",
    "from sklearn.utils import shuffle\n",
    "from sklearn.model_selection import train_test_split\n",
    "from keras.layers import Input, LSTM, Embedding, Dense, Bidirectional\n",
    "from keras.layers import Activation, dot, concatenate\n",
    "from keras.models import Model\n",
    "from keras.callbacks import TensorBoard, ModelCheckpoint, ReduceLROnPlateau, EarlyStopping\n",
    "from keras.preprocessing.text import Tokenizer\n",
    "import tensorflow as tf\n",
    "from gensim.models import Word2Vec\n",
    "from tqdm import tqdm_notebook\n",
    "import nltk\n",
    "%matplotlib inline  \n",
    "import matplotlib\n",
    "import matplotlib.pyplot as plt\n",
    "import seaborn\n",
    "\n",
    "seaborn.set(font=['AppleMyungjo'], font_scale=1)"
   ]
  },
  {
   "cell_type": "code",
   "execution_count": 2,
   "metadata": {
    "colab": {
     "base_uri": "https://localhost:8080/",
     "height": 34
    },
    "colab_type": "code",
    "executionInfo": {
     "elapsed": 1141,
     "status": "ok",
     "timestamp": 1561288409366,
     "user": {
      "displayName": "MANDAV",
      "photoUrl": "https://lh4.googleusercontent.com/-Zi5_ERBmNoM/AAAAAAAAAAI/AAAAAAAAA4U/x7o5V3Av1zw/s64/photo.jpg",
      "userId": "06372901974541954018"
     },
     "user_tz": -330
    },
    "id": "zRJwXTOGBUwO",
    "outputId": "0814ce91-24f6-44c1-abd3-8796dde7d304"
   },
   "outputs": [
    {
     "data": {
      "text/plain": [
       "(120614, 3)"
      ]
     },
     "execution_count": 2,
     "metadata": {},
     "output_type": "execute_result"
    }
   ],
   "source": [
    "lines = pd.read_csv('dataset/english-spanish-dataset.csv')\n",
    "lines.shape"
   ]
  },
  {
   "cell_type": "code",
   "execution_count": 3,
   "metadata": {
    "colab": {},
    "colab_type": "code",
    "id": "af5iSs6WBUwV"
   },
   "outputs": [],
   "source": [
    "lines.english = lines.english.apply(lambda x: x.lower())\n",
    "lines.spanish = lines.spanish.apply(lambda x: str(x).lower())"
   ]
  },
  {
   "cell_type": "code",
   "execution_count": 4,
   "metadata": {
    "colab": {},
    "colab_type": "code",
    "id": "ZoJ3JuzqBUwY"
   },
   "outputs": [],
   "source": [
    "exclude = set(string.punctuation)\n",
    "lines.english = lines.english.apply(lambda x: ''.join(ch for ch in x if ch not in exclude))\n",
    "lines.spanish = lines.spanish.apply(lambda x: ''.join(ch for ch in x if ch not in exclude))"
   ]
  },
  {
   "cell_type": "code",
   "execution_count": 5,
   "metadata": {
    "colab": {},
    "colab_type": "code",
    "id": "jxomWPoYBUwb"
   },
   "outputs": [],
   "source": [
    "lines.english = lines.english.apply(lambda x: x.strip())\n",
    "lines.spanish = lines.spanish.apply(lambda x: x.strip())\n",
    "\n",
    "lines.english = lines.english.apply(lambda x: re.sub(\" +\", \" \", x))\n",
    "lines.spanish = lines.spanish.apply(lambda x: re.sub(\" +\", \" \", x))"
   ]
  },
  {
   "cell_type": "code",
   "execution_count": 6,
   "metadata": {
    "colab": {},
    "colab_type": "code",
    "id": "KKfPrO8JBUwe"
   },
   "outputs": [],
   "source": [
    "lines.english = lines.english.apply(lambda x: re.sub(\"\\?\\?\", '', x))\n",
    "lines.spanish = lines.spanish.apply(lambda x: re.sub(\"\\?\\?\", '', x))"
   ]
  },
  {
   "cell_type": "code",
   "execution_count": 7,
   "metadata": {
    "colab": {},
    "colab_type": "code",
    "id": "KIcRESM0BUwi"
   },
   "outputs": [],
   "source": [
    "lines.spanish = lines.spanish.apply(lambda x : 'START_ '+ x + '_END')"
   ]
  },
  {
   "cell_type": "code",
   "execution_count": 8,
   "metadata": {
    "colab": {
     "base_uri": "https://localhost:8080/",
     "height": 34
    },
    "colab_type": "code",
    "executionInfo": {
     "elapsed": 2383,
     "status": "ok",
     "timestamp": 1561288411651,
     "user": {
      "displayName": "MANDAV",
      "photoUrl": "https://lh4.googleusercontent.com/-Zi5_ERBmNoM/AAAAAAAAAAI/AAAAAAAAA4U/x7o5V3Av1zw/s64/photo.jpg",
      "userId": "06372901974541954018"
     },
     "user_tz": -330
    },
    "id": "AIlTJmu5BUwl",
    "outputId": "10eca49b-a4d6-4f59-dd58-8dd3620feee1"
   },
   "outputs": [
    {
     "data": {
      "text/plain": [
       "Index(['Unnamed: 0', 'english', 'spanish'], dtype='object')"
      ]
     },
     "execution_count": 8,
     "metadata": {},
     "output_type": "execute_result"
    }
   ],
   "source": [
    "lines.columns"
   ]
  },
  {
   "cell_type": "code",
   "execution_count": 9,
   "metadata": {
    "colab": {},
    "colab_type": "code",
    "id": "-VCepbFNBUwp"
   },
   "outputs": [],
   "source": [
    "del lines['Unnamed: 0']"
   ]
  },
  {
   "cell_type": "code",
   "execution_count": 10,
   "metadata": {
    "colab": {
     "base_uri": "https://localhost:8080/",
     "height": 359
    },
    "colab_type": "code",
    "executionInfo": {
     "elapsed": 2143,
     "status": "ok",
     "timestamp": 1561288411655,
     "user": {
      "displayName": "MANDAV",
      "photoUrl": "https://lh4.googleusercontent.com/-Zi5_ERBmNoM/AAAAAAAAAAI/AAAAAAAAA4U/x7o5V3Av1zw/s64/photo.jpg",
      "userId": "06372901974541954018"
     },
     "user_tz": -330
    },
    "id": "LdGaY2u7BUws",
    "outputId": "4283cfae-3bdb-4806-bf38-49a9cc3a258d"
   },
   "outputs": [
    {
     "data": {
      "text/html": [
       "<div>\n",
       "<style scoped>\n",
       "    .dataframe tbody tr th:only-of-type {\n",
       "        vertical-align: middle;\n",
       "    }\n",
       "\n",
       "    .dataframe tbody tr th {\n",
       "        vertical-align: top;\n",
       "    }\n",
       "\n",
       "    .dataframe thead th {\n",
       "        text-align: right;\n",
       "    }\n",
       "</style>\n",
       "<table border=\"1\" class=\"dataframe\">\n",
       "  <thead>\n",
       "    <tr style=\"text-align: right;\">\n",
       "      <th></th>\n",
       "      <th>english</th>\n",
       "      <th>spanish</th>\n",
       "    </tr>\n",
       "  </thead>\n",
       "  <tbody>\n",
       "    <tr>\n",
       "      <th>8867</th>\n",
       "      <td>please go ahead</td>\n",
       "      <td>START_ continua por favor_END</td>\n",
       "    </tr>\n",
       "    <tr>\n",
       "      <th>112653</th>\n",
       "      <td>around here they roll up the sidewalks at oclock</td>\n",
       "      <td>START_ a las siete de la tarde las calles esta...</td>\n",
       "    </tr>\n",
       "    <tr>\n",
       "      <th>59117</th>\n",
       "      <td>that seems to be the problem</td>\n",
       "      <td>START_ ese parece ser el problema_END</td>\n",
       "    </tr>\n",
       "    <tr>\n",
       "      <th>74883</th>\n",
       "      <td>sometimes history repeats itself</td>\n",
       "      <td>START_ a veces se repite la historia_END</td>\n",
       "    </tr>\n",
       "    <tr>\n",
       "      <th>31308</th>\n",
       "      <td>dont beat yourself up</td>\n",
       "      <td>START_ no te maltrates a ti mismo_END</td>\n",
       "    </tr>\n",
       "    <tr>\n",
       "      <th>80294</th>\n",
       "      <td>he is nothing but a minor composer</td>\n",
       "      <td>START_ el no es mas que un compositor de segun...</td>\n",
       "    </tr>\n",
       "    <tr>\n",
       "      <th>78561</th>\n",
       "      <td>the airplane is ready for landing</td>\n",
       "      <td>START_ el avion esta listo para aterrizar_END</td>\n",
       "    </tr>\n",
       "    <tr>\n",
       "      <th>80391</th>\n",
       "      <td>hes not good at remembering names</td>\n",
       "      <td>START_ el no es bueno para recordar nombres_END</td>\n",
       "    </tr>\n",
       "    <tr>\n",
       "      <th>68454</th>\n",
       "      <td>who told you to say that to me</td>\n",
       "      <td>START_ quien te dijo que me dijeras eso_END</td>\n",
       "    </tr>\n",
       "    <tr>\n",
       "      <th>49157</th>\n",
       "      <td>i dont remember my dreams</td>\n",
       "      <td>START_ no recuerdo mis suenos_END</td>\n",
       "    </tr>\n",
       "  </tbody>\n",
       "</table>\n",
       "</div>"
      ],
      "text/plain": [
       "                                                 english  \\\n",
       "8867                                     please go ahead   \n",
       "112653  around here they roll up the sidewalks at oclock   \n",
       "59117                       that seems to be the problem   \n",
       "74883                   sometimes history repeats itself   \n",
       "31308                              dont beat yourself up   \n",
       "80294                 he is nothing but a minor composer   \n",
       "78561                  the airplane is ready for landing   \n",
       "80391                  hes not good at remembering names   \n",
       "68454                     who told you to say that to me   \n",
       "49157                          i dont remember my dreams   \n",
       "\n",
       "                                                  spanish  \n",
       "8867                        START_ continua por favor_END  \n",
       "112653  START_ a las siete de la tarde las calles esta...  \n",
       "59117               START_ ese parece ser el problema_END  \n",
       "74883            START_ a veces se repite la historia_END  \n",
       "31308               START_ no te maltrates a ti mismo_END  \n",
       "80294   START_ el no es mas que un compositor de segun...  \n",
       "78561       START_ el avion esta listo para aterrizar_END  \n",
       "80391     START_ el no es bueno para recordar nombres_END  \n",
       "68454         START_ quien te dijo que me dijeras eso_END  \n",
       "49157                   START_ no recuerdo mis suenos_END  "
      ]
     },
     "execution_count": 10,
     "metadata": {},
     "output_type": "execute_result"
    }
   ],
   "source": [
    "lines.sample(10)"
   ]
  },
  {
   "cell_type": "code",
   "execution_count": 11,
   "metadata": {
    "colab": {},
    "colab_type": "code",
    "id": "b7RIXJS_BUww"
   },
   "outputs": [],
   "source": [
    "vocab_english = set()\n",
    "for sent in lines.english:\n",
    "    for word in sent.split():\n",
    "        if word not in vocab_english:\n",
    "            vocab_english.add(word)\n",
    "\n",
    "vocab_spanish = set()\n",
    "for sent in lines.spanish:\n",
    "    for word in sent.split():\n",
    "        if word not in vocab_spanish:\n",
    "            vocab_spanish.add(word)"
   ]
  },
  {
   "cell_type": "code",
   "execution_count": 12,
   "metadata": {
    "colab": {
     "base_uri": "https://localhost:8080/",
     "height": 34
    },
    "colab_type": "code",
    "executionInfo": {
     "elapsed": 2390,
     "status": "ok",
     "timestamp": 1561288412235,
     "user": {
      "displayName": "MANDAV",
      "photoUrl": "https://lh4.googleusercontent.com/-Zi5_ERBmNoM/AAAAAAAAAAI/AAAAAAAAA4U/x7o5V3Av1zw/s64/photo.jpg",
      "userId": "06372901974541954018"
     },
     "user_tz": -330
    },
    "id": "zjUfamiMBUw3",
    "outputId": "98b9edf4-af84-44fc-fbbb-3c88aea04379"
   },
   "outputs": [
    {
     "data": {
      "text/plain": [
       "(54, 7.071260384366657)"
      ]
     },
     "execution_count": 12,
     "metadata": {},
     "output_type": "execute_result"
    }
   ],
   "source": [
    "length_list=[]\n",
    "for l in lines.spanish:\n",
    "    length_list.append(len(l.split(' ')))\n",
    "max_length_spanish = np.max(length_list)\n",
    "max_length_spanish, np.average(length_list)"
   ]
  },
  {
   "cell_type": "code",
   "execution_count": 13,
   "metadata": {
    "colab": {
     "base_uri": "https://localhost:8080/",
     "height": 34
    },
    "colab_type": "code",
    "executionInfo": {
     "elapsed": 2272,
     "status": "ok",
     "timestamp": 1561288412236,
     "user": {
      "displayName": "MANDAV",
      "photoUrl": "https://lh4.googleusercontent.com/-Zi5_ERBmNoM/AAAAAAAAAAI/AAAAAAAAA4U/x7o5V3Av1zw/s64/photo.jpg",
      "userId": "06372901974541954018"
     },
     "user_tz": -330
    },
    "id": "ZS0g00QRBUw7",
    "outputId": "7358168d-4e4e-4ba6-fc04-7d84b5cd3a63"
   },
   "outputs": [
    {
     "data": {
      "text/plain": [
       "(47, 6.299807650853134)"
      ]
     },
     "execution_count": 13,
     "metadata": {},
     "output_type": "execute_result"
    }
   ],
   "source": [
    "length_list=[]\n",
    "for l in lines.english:\n",
    "    length_list.append(len(l.split(' ')))\n",
    "max_length_english = np.max(length_list)\n",
    "max_length_english, np.average(length_list)"
   ]
  },
  {
   "cell_type": "code",
   "execution_count": 14,
   "metadata": {
    "colab": {
     "base_uri": "https://localhost:8080/",
     "height": 34
    },
    "colab_type": "code",
    "executionInfo": {
     "elapsed": 2111,
     "status": "ok",
     "timestamp": 1561288412237,
     "user": {
      "displayName": "MANDAV",
      "photoUrl": "https://lh4.googleusercontent.com/-Zi5_ERBmNoM/AAAAAAAAAAI/AAAAAAAAA4U/x7o5V3Av1zw/s64/photo.jpg",
      "userId": "06372901974541954018"
     },
     "user_tz": -330
    },
    "id": "-0g--tTeBUw_",
    "outputId": "3b2caa3b-9059-4877-ef6f-567e42679d8f"
   },
   "outputs": [
    {
     "data": {
      "text/plain": [
       "(13392, 33770)"
      ]
     },
     "execution_count": 14,
     "metadata": {},
     "output_type": "execute_result"
    }
   ],
   "source": [
    "input_words = sorted(list(vocab_english))\n",
    "target_words = sorted(list(vocab_spanish))\n",
    "num_encoder_tokens = len(vocab_english)\n",
    "num_decoder_tokens = len(vocab_spanish)\n",
    "num_encoder_tokens, num_decoder_tokens"
   ]
  },
  {
   "cell_type": "code",
   "execution_count": 15,
   "metadata": {
    "colab": {
     "base_uri": "https://localhost:8080/",
     "height": 34
    },
    "colab_type": "code",
    "executionInfo": {
     "elapsed": 1916,
     "status": "ok",
     "timestamp": 1561288412239,
     "user": {
      "displayName": "MANDAV",
      "photoUrl": "https://lh4.googleusercontent.com/-Zi5_ERBmNoM/AAAAAAAAAAI/AAAAAAAAA4U/x7o5V3Av1zw/s64/photo.jpg",
      "userId": "06372901974541954018"
     },
     "user_tz": -330
    },
    "id": "gB_EeRdABUxE",
    "outputId": "53aaed85-229e-47c2-e647-3dc573e3649b"
   },
   "outputs": [
    {
     "data": {
      "text/plain": [
       "33771"
      ]
     },
     "execution_count": 15,
     "metadata": {},
     "output_type": "execute_result"
    }
   ],
   "source": [
    "num_decoder_tokens += 1 # For zero padding\n",
    "num_decoder_tokens"
   ]
  },
  {
   "cell_type": "code",
   "execution_count": 16,
   "metadata": {
    "colab": {},
    "colab_type": "code",
    "id": "5HAw_r07BUxJ"
   },
   "outputs": [],
   "source": [
    "input_token_index = dict([(word, i+1) for i, word in enumerate(input_words)])\n",
    "target_token_index = dict([(word, i+1) for i, word in enumerate(target_words)])"
   ]
  },
  {
   "cell_type": "code",
   "execution_count": 17,
   "metadata": {
    "colab": {},
    "colab_type": "code",
    "id": "ammnby9GBUxM"
   },
   "outputs": [],
   "source": [
    "reverse_input_char_index = dict((i, word) for word, i in input_token_index.items())\n",
    "reverse_target_char_index = dict((i, word) for word, i in target_token_index.items())"
   ]
  },
  {
   "cell_type": "code",
   "execution_count": 18,
   "metadata": {
    "colab": {
     "base_uri": "https://localhost:8080/",
     "height": 359
    },
    "colab_type": "code",
    "executionInfo": {
     "elapsed": 1823,
     "status": "ok",
     "timestamp": 1561288412628,
     "user": {
      "displayName": "MANDAV",
      "photoUrl": "https://lh4.googleusercontent.com/-Zi5_ERBmNoM/AAAAAAAAAAI/AAAAAAAAA4U/x7o5V3Av1zw/s64/photo.jpg",
      "userId": "06372901974541954018"
     },
     "user_tz": -330
    },
    "id": "9nKVhnXtBUxQ",
    "outputId": "4ed7ba96-eab5-4951-9e9f-540e390035c3"
   },
   "outputs": [
    {
     "data": {
      "text/html": [
       "<div>\n",
       "<style scoped>\n",
       "    .dataframe tbody tr th:only-of-type {\n",
       "        vertical-align: middle;\n",
       "    }\n",
       "\n",
       "    .dataframe tbody tr th {\n",
       "        vertical-align: top;\n",
       "    }\n",
       "\n",
       "    .dataframe thead th {\n",
       "        text-align: right;\n",
       "    }\n",
       "</style>\n",
       "<table border=\"1\" class=\"dataframe\">\n",
       "  <thead>\n",
       "    <tr style=\"text-align: right;\">\n",
       "      <th></th>\n",
       "      <th>english</th>\n",
       "      <th>spanish</th>\n",
       "    </tr>\n",
       "  </thead>\n",
       "  <tbody>\n",
       "    <tr>\n",
       "      <th>19983</th>\n",
       "      <td>hes a ghost hunter</td>\n",
       "      <td>START_ es un cazafantasmas_END</td>\n",
       "    </tr>\n",
       "    <tr>\n",
       "      <th>28814</th>\n",
       "      <td>it was very beautiful</td>\n",
       "      <td>START_ fue muy bonito_END</td>\n",
       "    </tr>\n",
       "    <tr>\n",
       "      <th>51267</th>\n",
       "      <td>tom is writing a novel now</td>\n",
       "      <td>START_ ahora tom esta escribiendo una novela_END</td>\n",
       "    </tr>\n",
       "    <tr>\n",
       "      <th>66276</th>\n",
       "      <td>i woke up at five this morning</td>\n",
       "      <td>START_ me desperte a las esta manana_END</td>\n",
       "    </tr>\n",
       "    <tr>\n",
       "      <th>50289</th>\n",
       "      <td>rome wasnt built in a day</td>\n",
       "      <td>START_ no se gano zamora en una hora_END</td>\n",
       "    </tr>\n",
       "    <tr>\n",
       "      <th>44127</th>\n",
       "      <td>do you have a better idea</td>\n",
       "      <td>START_ tienes una idea mejor_END</td>\n",
       "    </tr>\n",
       "    <tr>\n",
       "      <th>86849</th>\n",
       "      <td>i used to listen to english programs</td>\n",
       "      <td>START_ solia escuchar programas en ingles_END</td>\n",
       "    </tr>\n",
       "    <tr>\n",
       "      <th>55179</th>\n",
       "      <td>this furnitures in the way</td>\n",
       "      <td>START_ este mueble estorba el paso_END</td>\n",
       "    </tr>\n",
       "    <tr>\n",
       "      <th>119609</th>\n",
       "      <td>in the old days every child could tell the dif...</td>\n",
       "      <td>START_ antiguamente todos los ninos sabian cua...</td>\n",
       "    </tr>\n",
       "    <tr>\n",
       "      <th>65008</th>\n",
       "      <td>dont stay up late every night</td>\n",
       "      <td>START_ no te quedes despierto hasta tarde toda...</td>\n",
       "    </tr>\n",
       "  </tbody>\n",
       "</table>\n",
       "</div>"
      ],
      "text/plain": [
       "                                                  english  \\\n",
       "19983                                  hes a ghost hunter   \n",
       "28814                               it was very beautiful   \n",
       "51267                          tom is writing a novel now   \n",
       "66276                      i woke up at five this morning   \n",
       "50289                           rome wasnt built in a day   \n",
       "44127                           do you have a better idea   \n",
       "86849                i used to listen to english programs   \n",
       "55179                          this furnitures in the way   \n",
       "119609  in the old days every child could tell the dif...   \n",
       "65008                       dont stay up late every night   \n",
       "\n",
       "                                                  spanish  \n",
       "19983                      START_ es un cazafantasmas_END  \n",
       "28814                           START_ fue muy bonito_END  \n",
       "51267    START_ ahora tom esta escribiendo una novela_END  \n",
       "66276            START_ me desperte a las esta manana_END  \n",
       "50289            START_ no se gano zamora en una hora_END  \n",
       "44127                    START_ tienes una idea mejor_END  \n",
       "86849       START_ solia escuchar programas en ingles_END  \n",
       "55179              START_ este mueble estorba el paso_END  \n",
       "119609  START_ antiguamente todos los ninos sabian cua...  \n",
       "65008   START_ no te quedes despierto hasta tarde toda...  "
      ]
     },
     "execution_count": 18,
     "metadata": {},
     "output_type": "execute_result"
    }
   ],
   "source": [
    "lines = shuffle(lines)\n",
    "lines.head(10)"
   ]
  },
  {
   "cell_type": "code",
   "execution_count": 19,
   "metadata": {
    "colab": {
     "base_uri": "https://localhost:8080/",
     "height": 34
    },
    "colab_type": "code",
    "executionInfo": {
     "elapsed": 2161,
     "status": "ok",
     "timestamp": 1561288413181,
     "user": {
      "displayName": "MANDAV",
      "photoUrl": "https://lh4.googleusercontent.com/-Zi5_ERBmNoM/AAAAAAAAAAI/AAAAAAAAA4U/x7o5V3Av1zw/s64/photo.jpg",
      "userId": "06372901974541954018"
     },
     "user_tz": -330
    },
    "id": "-UPKSoPGBUxU",
    "outputId": "f5165d13-a685-4d37-bf1e-85c0be16bc7b"
   },
   "outputs": [
    {
     "data": {
      "text/plain": [
       "(120614, 120614)"
      ]
     },
     "execution_count": 19,
     "metadata": {},
     "output_type": "execute_result"
    }
   ],
   "source": [
    "english = list(lines.english)\n",
    "spanish = list(lines.spanish)\n",
    "\n",
    "x = []\n",
    "y = []\n",
    "\n",
    "for i in range(len(english)):\n",
    "    x.append(str(english[i]))\n",
    "    y.append(str(spanish[i]))\n",
    "\n",
    "x = np.array(x)\n",
    "y = np.array(y)\n",
    "len(x), len(y)"
   ]
  },
  {
   "cell_type": "code",
   "execution_count": 20,
   "metadata": {
    "colab": {
     "base_uri": "https://localhost:8080/",
     "height": 34
    },
    "colab_type": "code",
    "executionInfo": {
     "elapsed": 1989,
     "status": "ok",
     "timestamp": 1561288413185,
     "user": {
      "displayName": "MANDAV",
      "photoUrl": "https://lh4.googleusercontent.com/-Zi5_ERBmNoM/AAAAAAAAAAI/AAAAAAAAA4U/x7o5V3Av1zw/s64/photo.jpg",
      "userId": "06372901974541954018"
     },
     "user_tz": -330
    },
    "id": "5IBLLHNjBUxX",
    "outputId": "d5492792-eea8-41ad-90d1-7feb27d6a78a"
   },
   "outputs": [
    {
     "data": {
      "text/plain": [
       "((108552,), (12062,))"
      ]
     },
     "execution_count": 20,
     "metadata": {},
     "output_type": "execute_result"
    }
   ],
   "source": [
    "X_train, X_test, y_train, y_test = train_test_split(x, y, test_size = 0.1)\n",
    "X_train.shape, X_test.shape"
   ]
  },
  {
   "cell_type": "code",
   "execution_count": 21,
   "metadata": {
    "colab": {},
    "colab_type": "code",
    "id": "FoCDohIIBUxb"
   },
   "outputs": [],
   "source": [
    "def generate_batch(X = X_train, y = y_train, batch_size = 128):\n",
    "    ''' Generate a batch of data '''\n",
    "    while True:\n",
    "        for j in range(0, len(X), batch_size):\n",
    "            encoder_input_data = np.zeros((batch_size, max_length_english),dtype='float32')\n",
    "            decoder_input_data = np.zeros((batch_size, max_length_spanish),dtype='float32')\n",
    "            decoder_target_data = np.zeros((batch_size, max_length_spanish, num_decoder_tokens),dtype='float32')\n",
    "            for i, (input_text, target_text) in enumerate(zip(X[j:j+batch_size], y[j:j+batch_size])):\n",
    "                for t, word in enumerate(input_text.split()):\n",
    "                    encoder_input_data[i, t] = input_token_index[word] # encoder input seq\n",
    "                for t, word in enumerate(target_text.split()):\n",
    "                    if t<len(target_text.split())-1:\n",
    "                        decoder_input_data[i, t] = target_token_index[word] # decoder input seq\n",
    "                    if t>0:\n",
    "                        # decoder target sequence (one hot encoded)\n",
    "                        # does not include the START_ token\n",
    "                        # Offset by one timestep\n",
    "                        decoder_target_data[i, t - 1, target_token_index[word]] = 1.\n",
    "            yield([encoder_input_data, decoder_input_data], decoder_target_data)"
   ]
  },
  {
   "cell_type": "code",
   "execution_count": 22,
   "metadata": {
    "colab": {},
    "colab_type": "code",
    "id": "t38FLk4JBUxd"
   },
   "outputs": [],
   "source": [
    "latent_dim = 256"
   ]
  },
  {
   "cell_type": "code",
   "execution_count": 23,
   "metadata": {
    "colab": {
     "base_uri": "https://localhost:8080/",
     "height": 105
    },
    "colab_type": "code",
    "executionInfo": {
     "elapsed": 1610,
     "status": "ok",
     "timestamp": 1561288413966,
     "user": {
      "displayName": "MANDAV",
      "photoUrl": "https://lh4.googleusercontent.com/-Zi5_ERBmNoM/AAAAAAAAAAI/AAAAAAAAA4U/x7o5V3Av1zw/s64/photo.jpg",
      "userId": "06372901974541954018"
     },
     "user_tz": -330
    },
    "id": "wuP9BP4xBUxg",
    "outputId": "50c51b44-1380-4741-d79d-5e262af9d05d"
   },
   "outputs": [],
   "source": [
    "english_embedding = Word2Vec.load('embeddings/skipgram-english-256.model')\n",
    "spanish_embedding = Word2Vec.load('embeddings/skipgram-spanish-256.model')"
   ]
  },
  {
   "cell_type": "code",
   "execution_count": 24,
   "metadata": {
    "colab": {},
    "colab_type": "code",
    "id": "dN3HieZuBUxi"
   },
   "outputs": [],
   "source": [
    "eng_tok = Tokenizer()\n",
    "ger_tok = Tokenizer()\n",
    "\n",
    "eng_tok.fit_on_texts(english)\n",
    "ger_tok.fit_on_texts(spanish)"
   ]
  },
  {
   "cell_type": "code",
   "execution_count": 25,
   "metadata": {
    "colab": {
     "base_uri": "https://localhost:8080/",
     "height": 122
    },
    "colab_type": "code",
    "executionInfo": {
     "elapsed": 5034,
     "status": "ok",
     "timestamp": 1561288418110,
     "user": {
      "displayName": "MANDAV",
      "photoUrl": "https://lh4.googleusercontent.com/-Zi5_ERBmNoM/AAAAAAAAAAI/AAAAAAAAA4U/x7o5V3Av1zw/s64/photo.jpg",
      "userId": "06372901974541954018"
     },
     "user_tz": -330
    },
    "id": "iAaqCdvcBUxk",
    "outputId": "b1eadc7b-9b63-444e-c711-88b2c062306e"
   },
   "outputs": [
    {
     "name": "stderr",
     "output_type": "stream",
     "text": [
      "/usr/local/lib/python3.6/dist-packages/ipykernel_launcher.py:5: DeprecationWarning: Call to deprecated `__getitem__` (Method will be removed in 4.0.0, use self.wv.__getitem__() instead).\n",
      "  \"\"\"\n",
      "/usr/local/lib/python3.6/dist-packages/ipykernel_launcher.py:14: DeprecationWarning: Call to deprecated `__getitem__` (Method will be removed in 4.0.0, use self.wv.__getitem__() instead).\n",
      "  \n"
     ]
    },
    {
     "name": "stdout",
     "output_type": "stream",
     "text": [
      "index 13392 is out of bounds for axis 0 with size 13392\n"
     ]
    }
   ],
   "source": [
    "# create a weight matrix for words in training docs\n",
    "encoder_embedding_matrix = np.zeros((num_encoder_tokens, latent_dim))\n",
    "for word, i in eng_tok.word_index.items():\n",
    "    try:\n",
    "        embedding_vector = english_embedding[word]\n",
    "        if embedding_vector is not None:\n",
    "            encoder_embedding_matrix[i] = embedding_vector\n",
    "    except Exception as e:\n",
    "        print(e)\n",
    "# create a weight matrix for words in training docs\n",
    "decoder_embedding_matrix = np.zeros((num_decoder_tokens, latent_dim))\n",
    "for word, i in ger_tok.word_index.items():\n",
    "    try:\n",
    "        embedding_vector = spanish_embedding[word]\n",
    "        if embedding_vector is not None:\n",
    "            decoder_embedding_matrix[i] = embedding_vector\n",
    "    except Exception as e:\n",
    "        pass"
   ]
  },
  {
   "cell_type": "code",
   "execution_count": 26,
   "metadata": {
    "colab": {
     "base_uri": "https://localhost:8080/",
     "height": 68
    },
    "colab_type": "code",
    "executionInfo": {
     "elapsed": 8662,
     "status": "ok",
     "timestamp": 1561288422093,
     "user": {
      "displayName": "MANDAV",
      "photoUrl": "https://lh4.googleusercontent.com/-Zi5_ERBmNoM/AAAAAAAAAAI/AAAAAAAAA4U/x7o5V3Av1zw/s64/photo.jpg",
      "userId": "06372901974541954018"
     },
     "user_tz": -330
    },
    "id": "OMedXeGwBUxo",
    "outputId": "e92706a3-2db3-406a-988b-9d5b3f0c0c6a"
   },
   "outputs": [
    {
     "name": "stderr",
     "output_type": "stream",
     "text": [
      "WARNING: Logging before flag parsing goes to stderr.\n",
      "W0624 21:46:40.619225 140523438131008 deprecation.py:506] From /usr/local/lib/python3.6/dist-packages/keras/backend/tensorflow_backend.py:1188: calling reduce_sum_v1 (from tensorflow.python.ops.math_ops) with keep_dims is deprecated and will be removed in a future version.\n",
      "Instructions for updating:\n",
      "keep_dims is deprecated, use keepdims instead\n"
     ]
    },
    {
     "name": "stdout",
     "output_type": "stream",
     "text": [
      "encoder_outputs:  Tensor(\"lstm_1/transpose_2:0\", shape=(?, ?, 1024), dtype=float32)\n",
      "state_h:  Tensor(\"lstm_1/while/Exit_2:0\", shape=(?, 1024), dtype=float32)\n",
      "state_c:  Tensor(\"lstm_1/while/Exit_3:0\", shape=(?, 1024), dtype=float32)\n"
     ]
    }
   ],
   "source": [
    "encoder_inputs = Input(shape=(None,))\n",
    "enc_emb =  Embedding(num_encoder_tokens, latent_dim, mask_zero = True, weights=[encoder_embedding_matrix])(encoder_inputs)\n",
    "\n",
    "encoder_lstm = LSTM(latent_dim*4, return_sequences=True, return_state=True)\n",
    "encoder_outputs, state_h, state_c = encoder_lstm(enc_emb)\n",
    "encoder_states = [state_h, state_c]\n",
    "\n",
    "print('encoder_outputs: ', encoder_outputs)\n",
    "print('state_h: ', state_h)\n",
    "print('state_c: ', state_c)"
   ]
  },
  {
   "cell_type": "code",
   "execution_count": 27,
   "metadata": {
    "colab": {},
    "colab_type": "code",
    "id": "pEitjyBaBUxr"
   },
   "outputs": [
    {
     "name": "stderr",
     "output_type": "stream",
     "text": [
      "W0624 21:46:43.505066 140523438131008 deprecation.py:506] From /usr/local/lib/python3.6/dist-packages/keras/backend/tensorflow_backend.py:1154: calling reduce_max_v1 (from tensorflow.python.ops.math_ops) with keep_dims is deprecated and will be removed in a future version.\n",
      "Instructions for updating:\n",
      "keep_dims is deprecated, use keepdims instead\n",
      "W0624 21:46:43.515182 140523438131008 deprecation.py:506] From /usr/local/lib/python3.6/dist-packages/keras/backend/tensorflow_backend.py:1320: calling reduce_all_v1 (from tensorflow.python.ops.math_ops) with keep_dims is deprecated and will be removed in a future version.\n",
      "Instructions for updating:\n",
      "keep_dims is deprecated, use keepdims instead\n"
     ]
    }
   ],
   "source": [
    "decoder_inputs = Input(shape=(None,))\n",
    "dec_emb_layer = Embedding(num_decoder_tokens, latent_dim, mask_zero = True, weights=[decoder_embedding_matrix])\n",
    "dec_emb = dec_emb_layer(decoder_inputs)\n",
    "\n",
    "decoder_lstm = LSTM(latent_dim*4, return_sequences=True, return_state=True)\n",
    "decoder_outputs, _, _ = decoder_lstm(dec_emb,\n",
    "                                     initial_state=encoder_states)\n",
    "\n",
    "attention = dot([decoder_outputs, encoder_outputs], axes=[2, 2])\n",
    "\n",
    "attention = Activation('softmax', name='attention')(attention)\n",
    "\n",
    "context = dot([attention, encoder_outputs], axes=[2, 1], name='context')\n",
    "\n",
    "decoder_combined_context = concatenate([context, decoder_outputs], name='decoder_combined_context')\n",
    "\n",
    "decoder_dense = Dense(num_decoder_tokens, activation='softmax')\n",
    "decoder_outputs = decoder_dense(decoder_combined_context)\n",
    "\n",
    "model = Model([encoder_inputs, decoder_inputs], decoder_outputs)"
   ]
  },
  {
   "cell_type": "code",
   "execution_count": 28,
   "metadata": {
    "colab": {
     "base_uri": "https://localhost:8080/",
     "height": 615
    },
    "colab_type": "code",
    "executionInfo": {
     "elapsed": 11754,
     "status": "ok",
     "timestamp": 1561288426423,
     "user": {
      "displayName": "MANDAV",
      "photoUrl": "https://lh4.googleusercontent.com/-Zi5_ERBmNoM/AAAAAAAAAAI/AAAAAAAAA4U/x7o5V3Av1zw/s64/photo.jpg",
      "userId": "06372901974541954018"
     },
     "user_tz": -330
    },
    "id": "b0yAfcepBUxu",
    "outputId": "1119cad9-2636-4ab0-9d83-65a780dfbc95"
   },
   "outputs": [
    {
     "name": "stdout",
     "output_type": "stream",
     "text": [
      "____________________________________________________________________________________________________\n",
      "Layer (type)                     Output Shape          Param #     Connected to                     \n",
      "====================================================================================================\n",
      "input_1 (InputLayer)             (None, None)          0                                            \n",
      "____________________________________________________________________________________________________\n",
      "input_2 (InputLayer)             (None, None)          0                                            \n",
      "____________________________________________________________________________________________________\n",
      "embedding_1 (Embedding)          (None, None, 256)     3428352     input_1[0][0]                    \n",
      "____________________________________________________________________________________________________\n",
      "embedding_2 (Embedding)          (None, None, 256)     8645376     input_2[0][0]                    \n",
      "____________________________________________________________________________________________________\n",
      "lstm_1 (LSTM)                    [(None, None, 1024),  5246976     embedding_1[0][0]                \n",
      "____________________________________________________________________________________________________\n",
      "lstm_2 (LSTM)                    [(None, None, 1024),  5246976     embedding_2[0][0]                \n",
      "                                                                   lstm_1[0][1]                     \n",
      "                                                                   lstm_1[0][2]                     \n",
      "____________________________________________________________________________________________________\n",
      "dot_1 (Dot)                      (None, None, None)    0           lstm_2[0][0]                     \n",
      "                                                                   lstm_1[0][0]                     \n",
      "____________________________________________________________________________________________________\n",
      "attention (Activation)           (None, None, None)    0           dot_1[0][0]                      \n",
      "____________________________________________________________________________________________________\n",
      "context (Dot)                    (None, None, 1024)    0           attention[0][0]                  \n",
      "                                                                   lstm_1[0][0]                     \n",
      "____________________________________________________________________________________________________\n",
      "decoder_combined_context (Concat (None, None, 2048)    0           context[0][0]                    \n",
      "                                                                   lstm_2[0][0]                     \n",
      "____________________________________________________________________________________________________\n",
      "dense_1 (Dense)                  (None, None, 33771)   69196779    decoder_combined_context[0][0]   \n",
      "====================================================================================================\n",
      "Total params: 91,764,459\n",
      "Trainable params: 91,764,459\n",
      "Non-trainable params: 0\n",
      "____________________________________________________________________________________________________\n"
     ]
    }
   ],
   "source": [
    "model.compile(optimizer='rmsprop', loss='categorical_crossentropy', metrics=['acc'])\n",
    "model.summary()"
   ]
  },
  {
   "cell_type": "code",
   "execution_count": 29,
   "metadata": {
    "colab": {},
    "colab_type": "code",
    "id": "BPxZJJWrBUxx"
   },
   "outputs": [],
   "source": [
    "train_samples = len(X_train)\n",
    "val_samples = len(X_test)\n",
    "batch_size = 16\n",
    "epochs = 20"
   ]
  },
  {
   "cell_type": "code",
   "execution_count": 30,
   "metadata": {
    "colab": {},
    "colab_type": "code",
    "id": "OLyEW_50BUx0"
   },
   "outputs": [],
   "source": [
    "class TrainValTensorBoard(TensorBoard):\n",
    "    def __init__(self, log_dir='./logs', **kwargs):\n",
    "        # Make the original `TensorBoard` log to a subdirectory 'training'\n",
    "        training_log_dir = os.path.join(log_dir, 'training')\n",
    "        super(TrainValTensorBoard, self).__init__(training_log_dir, **kwargs)\n",
    "\n",
    "        # Log the validation metrics to a separate subdirectory\n",
    "        self.val_log_dir = os.path.join(log_dir, 'validation')\n",
    "\n",
    "    def set_model(self, model):\n",
    "        # Setup writer for validation metrics\n",
    "        self.val_writer = tf.summary.FileWriter(self.val_log_dir)\n",
    "        super(TrainValTensorBoard, self).set_model(model)\n",
    "\n",
    "    def on_epoch_end(self, epoch, logs=None):\n",
    "        # Pop the validation logs and handle them separately with\n",
    "        # `self.val_writer`. Also rename the keys so that they can\n",
    "        # be plotted on the same figure with the training metrics\n",
    "        logs = logs or {}\n",
    "        val_logs = {k.replace('val_', ''): v for k, v in logs.items() if k.startswith('val_')}\n",
    "        for name, value in val_logs.items():\n",
    "            summary = tf.Summary()\n",
    "            summary_value = summary.value.add()\n",
    "            summary_value.simple_value = value.item()\n",
    "            summary_value.tag = name\n",
    "            self.val_writer.add_summary(summary, epoch)\n",
    "        self.val_writer.flush()\n",
    "\n",
    "        # Pass the remaining logs to `TensorBoard.on_epoch_end`\n",
    "        logs = {k: v for k, v in logs.items() if not k.startswith('val_')}\n",
    "        super(TrainValTensorBoard, self).on_epoch_end(epoch, logs)\n",
    "\n",
    "    def on_train_end(self, logs=None):\n",
    "        super(TrainValTensorBoard, self).on_train_end(logs)\n",
    "        self.val_writer.close()\n"
   ]
  },
  {
   "cell_type": "code",
   "execution_count": 31,
   "metadata": {
    "colab": {},
    "colab_type": "code",
    "id": "0BMAEEF3BUx2"
   },
   "outputs": [],
   "source": [
    "log_dir = 'eng-spa-weights'\n",
    "logging = TrainValTensorBoard(log_dir=log_dir)\n",
    "checkpoint = ModelCheckpoint(os.path.join(log_dir, 'ep{epoch:03d}-val_loss{val_loss:.3f}-val_acc{val_acc:.3f}.h5'),\n",
    "        monitor='val_loss', save_weights_only=True, save_best_only=True, period=3)\n",
    "reduce_lr = ReduceLROnPlateau(monitor='val_loss', factor=0.1, patience=3, verbose=1)\n",
    "early_stopping = EarlyStopping(monitor='val_loss', min_delta=0, patience=5, verbose=1)"
   ]
  },
  {
   "cell_type": "code",
   "execution_count": 32,
   "metadata": {
    "colab": {},
    "colab_type": "code",
    "id": "Dg_xZW8V8lPz"
   },
   "outputs": [],
   "source": [
    "#model.load_weights('eng-spa-weights/ep015-val_loss3.445-val_acc0.592.h5')"
   ]
  },
  {
   "cell_type": "code",
   "execution_count": 33,
   "metadata": {
    "colab": {
     "base_uri": "https://localhost:8080/",
     "height": 238
    },
    "colab_type": "code",
    "executionInfo": {
     "elapsed": 1093473,
     "status": "ok",
     "timestamp": 1561303223221,
     "user": {
      "displayName": "MANDAV",
      "photoUrl": "https://lh4.googleusercontent.com/-Zi5_ERBmNoM/AAAAAAAAAAI/AAAAAAAAA4U/x7o5V3Av1zw/s64/photo.jpg",
      "userId": "06372901974541954018"
     },
     "user_tz": -330
    },
    "id": "zXoQi4TRBUx6",
    "outputId": "4544145f-94dc-45e2-8bd9-4ece51a1ba87"
   },
   "outputs": [],
   "source": [
    "# model.fit_generator(generator = generate_batch(X_train, y_train, batch_size = batch_size),\n",
    "#                     steps_per_epoch = train_samples//batch_size,\n",
    "#                     epochs=epochs,\n",
    "#                     validation_data = generate_batch(X_test, y_test, batch_size = batch_size),\n",
    "#                     validation_steps = val_samples//batch_size,\n",
    "#                     callbacks=[logging, checkpoint, reduce_lr, early_stopping])"
   ]
  },
  {
   "cell_type": "code",
   "execution_count": 34,
   "metadata": {
    "colab": {},
    "colab_type": "code",
    "id": "_cX-8VhmS46L"
   },
   "outputs": [],
   "source": [
    "#model.save_weights('eng-spa-weights/final_weights.h5')"
   ]
  },
  {
   "cell_type": "code",
   "execution_count": 35,
   "metadata": {
    "colab": {},
    "colab_type": "code",
    "id": "xSeN6RUYBUx8"
   },
   "outputs": [],
   "source": [
    "model.load_weights('eng-spa-weights/final_weights.h5')"
   ]
  },
  {
   "cell_type": "code",
   "execution_count": 36,
   "metadata": {
    "colab": {},
    "colab_type": "code",
    "id": "PJE-x_8PBUx9"
   },
   "outputs": [
    {
     "name": "stdout",
     "output_type": "stream",
     "text": [
      "Attention:  Tensor(\"dot_2/MatMul:0\", shape=(?, ?, ?), dtype=float32)\n",
      "Softmax:  Tensor(\"attention_1/truediv:0\", shape=(?, ?, ?), dtype=float32)\n",
      "Context:  Tensor(\"dot_3/MatMul:0\", shape=(?, ?, 1024), dtype=float32)\n",
      "Combined Context:  Tensor(\"concatenate_1/concat:0\", shape=(?, ?, 2048), dtype=float32)\n"
     ]
    }
   ],
   "source": [
    "# Encode the input sequence to get the \"thought vectors\"\n",
    "encoder_model = Model(encoder_inputs, [encoder_outputs] + encoder_states)\n",
    "\n",
    "# Decoder setup\n",
    "# Below tensors will hold the states of the previous time step\n",
    "decoder_state_input_h = Input(shape=(latent_dim*4,))\n",
    "decoder_state_input_c = Input(shape=(latent_dim*4,))\n",
    "\n",
    "encoder_inf_input = Input(shape=(None, latent_dim*4))\n",
    "\n",
    "decoder_states_inputs = [decoder_state_input_h, decoder_state_input_c]\n",
    "\n",
    "dec_emb2= dec_emb_layer(decoder_inputs) # Get the embeddings of the decoder sequence\n",
    "\n",
    "# To predict the next word in the sequence, set the initial states to the states from the previous time step\n",
    "decoder_outputs2, state_h2, state_c2 = decoder_lstm(dec_emb2, initial_state=decoder_states_inputs)\n",
    "decoder_states2 = [state_h2, state_c2]\n",
    "\n",
    "\n",
    "attention = dot([decoder_outputs2, encoder_inf_input], axes=[2, 2])\n",
    "print('Attention: ', attention)\n",
    "\n",
    "attention = Activation('softmax', name='attention')(attention)\n",
    "print('Softmax: ', attention)\n",
    "\n",
    "context = dot([attention, encoder_inf_input], axes=[2, 1])\n",
    "print('Context: ', context)\n",
    "\n",
    "decoder_combined_context = concatenate([context, decoder_outputs2])\n",
    "print('Combined Context: ', decoder_combined_context)\n",
    "\n",
    "\n",
    "\n",
    "\n",
    "decoder_outputs2 = decoder_dense(decoder_combined_context) # A dense softmax layer to generate prob dist. over the target vocabulary\n",
    "\n",
    "# Final decoder model\n",
    "decoder_model = Model(\n",
    "    [decoder_inputs, encoder_inf_input] + decoder_states_inputs,\n",
    "    [decoder_outputs2] + decoder_states2)"
   ]
  },
  {
   "cell_type": "code",
   "execution_count": 37,
   "metadata": {
    "colab": {},
    "colab_type": "code",
    "id": "9JyYBhHmBUyA"
   },
   "outputs": [
    {
     "name": "stdout",
     "output_type": "stream",
     "text": [
      "_________________________________________________________________\n",
      "Layer (type)                 Output Shape              Param #   \n",
      "=================================================================\n",
      "input_1 (InputLayer)         (None, None)              0         \n",
      "_________________________________________________________________\n",
      "embedding_1 (Embedding)      (None, None, 256)         3428352   \n",
      "_________________________________________________________________\n",
      "lstm_1 (LSTM)                [(None, None, 1024), (Non 5246976   \n",
      "=================================================================\n",
      "Total params: 8,675,328\n",
      "Trainable params: 8,675,328\n",
      "Non-trainable params: 0\n",
      "_________________________________________________________________\n"
     ]
    },
    {
     "data": {
      "text/plain": [
       "[<tf.Tensor 'lstm_1/transpose_2:0' shape=(?, ?, 1024) dtype=float32>,\n",
       " <tf.Tensor 'lstm_1/while/Exit_2:0' shape=(?, 1024) dtype=float32>,\n",
       " <tf.Tensor 'lstm_1/while/Exit_3:0' shape=(?, 1024) dtype=float32>]"
      ]
     },
     "execution_count": 37,
     "metadata": {},
     "output_type": "execute_result"
    }
   ],
   "source": [
    "encoder_model.summary()\n",
    "encoder_model.output"
   ]
  },
  {
   "cell_type": "code",
   "execution_count": 38,
   "metadata": {
    "colab": {},
    "colab_type": "code",
    "id": "OSYAXdkeBUyC"
   },
   "outputs": [
    {
     "name": "stdout",
     "output_type": "stream",
     "text": [
      "____________________________________________________________________________________________________\n",
      "Layer (type)                     Output Shape          Param #     Connected to                     \n",
      "====================================================================================================\n",
      "input_2 (InputLayer)             (None, None)          0                                            \n",
      "____________________________________________________________________________________________________\n",
      "embedding_2 (Embedding)          (None, None, 256)     8645376     input_2[0][0]                    \n",
      "____________________________________________________________________________________________________\n",
      "input_3 (InputLayer)             (None, 1024)          0                                            \n",
      "____________________________________________________________________________________________________\n",
      "input_4 (InputLayer)             (None, 1024)          0                                            \n",
      "____________________________________________________________________________________________________\n",
      "lstm_2 (LSTM)                    [(None, None, 1024),  5246976     embedding_2[1][0]                \n",
      "                                                                   input_3[0][0]                    \n",
      "                                                                   input_4[0][0]                    \n",
      "____________________________________________________________________________________________________\n",
      "input_5 (InputLayer)             (None, None, 1024)    0                                            \n",
      "____________________________________________________________________________________________________\n",
      "dot_2 (Dot)                      (None, None, None)    0           lstm_2[1][0]                     \n",
      "                                                                   input_5[0][0]                    \n",
      "____________________________________________________________________________________________________\n",
      "attention (Activation)           (None, None, None)    0           dot_2[0][0]                      \n",
      "____________________________________________________________________________________________________\n",
      "dot_3 (Dot)                      (None, None, 1024)    0           attention[0][0]                  \n",
      "                                                                   input_5[0][0]                    \n",
      "____________________________________________________________________________________________________\n",
      "concatenate_1 (Concatenate)      (None, None, 2048)    0           dot_3[0][0]                      \n",
      "                                                                   lstm_2[1][0]                     \n",
      "____________________________________________________________________________________________________\n",
      "dense_1 (Dense)                  (None, None, 33771)   69196779    concatenate_1[0][0]              \n",
      "====================================================================================================\n",
      "Total params: 83,089,131\n",
      "Trainable params: 83,089,131\n",
      "Non-trainable params: 0\n",
      "____________________________________________________________________________________________________\n"
     ]
    },
    {
     "data": {
      "text/plain": [
       "([<tf.Tensor 'input_2:0' shape=(?, ?) dtype=float32>,\n",
       "  <tf.Tensor 'input_5:0' shape=(?, ?, 1024) dtype=float32>,\n",
       "  <tf.Tensor 'input_3:0' shape=(?, 1024) dtype=float32>,\n",
       "  <tf.Tensor 'input_4:0' shape=(?, 1024) dtype=float32>],\n",
       " [<tf.Tensor 'dense_1_1/truediv:0' shape=(?, ?, 33771) dtype=float32>,\n",
       "  <tf.Tensor 'lstm_2_1/while/Exit_2:0' shape=(?, 1024) dtype=float32>,\n",
       "  <tf.Tensor 'lstm_2_1/while/Exit_3:0' shape=(?, 1024) dtype=float32>])"
      ]
     },
     "execution_count": 38,
     "metadata": {},
     "output_type": "execute_result"
    }
   ],
   "source": [
    "decoder_model.summary()\n",
    "decoder_model.input, decoder_model.output"
   ]
  },
  {
   "cell_type": "code",
   "execution_count": 39,
   "metadata": {
    "colab": {},
    "colab_type": "code",
    "id": "JZifboeTBUyE"
   },
   "outputs": [],
   "source": [
    "def decode_sequence(input_seq):\n",
    "    # Encode the input as state vectors.\n",
    "    [encoder_output, h, c] = encoder_model.predict(input_seq)\n",
    "    states_value = [h, c]\n",
    "    \n",
    "    # Generate empty target sequence of length 1.\n",
    "    target_seq = np.zeros((1,1))\n",
    "    # Populate the first character of target sequence with the start character.\n",
    "    target_seq[0, 0] = target_token_index['START_']\n",
    "\n",
    "    # Sampling loop for a batch of sequences\n",
    "    # (to simplify, here we assume a batch of size 1).\n",
    "    \n",
    "    #return\n",
    "    stop_condition = False\n",
    "    decoded_sentence = ''\n",
    "    while not stop_condition:\n",
    "        output_tokens, h, c = decoder_model.predict([target_seq, encoder_output] + states_value)\n",
    "\n",
    "        # Sample a token\n",
    "        sampled_token_index = np.argmax(output_tokens[0, -1, :])\n",
    "        sampled_char = reverse_target_char_index[sampled_token_index]\n",
    "        decoded_sentence += ' '+sampled_char\n",
    "\n",
    "        # Exit condition: either hit max length\n",
    "        # or find stop character.\n",
    "        if (sampled_char == '_END' or\n",
    "           len(decoded_sentence) > 100):\n",
    "            stop_condition = True\n",
    "\n",
    "        # Update the target sequence (of length 1).\n",
    "        target_seq = np.zeros((1,1))\n",
    "        target_seq[0, 0] = sampled_token_index\n",
    "\n",
    "        # Update states\n",
    "        states_value = [h, c]\n",
    "\n",
    "    return decoded_sentence\n"
   ]
  },
  {
   "cell_type": "code",
   "execution_count": 40,
   "metadata": {
    "colab": {},
    "colab_type": "code",
    "id": "sU-TkMATBUyI"
   },
   "outputs": [
    {
     "name": "stdout",
     "output_type": "stream",
     "text": [
      "<keras.engine.topology.InputLayer object at 0x7fcd902813c8>\tname:input_2\n",
      "<keras.layers.embeddings.Embedding object at 0x7fcd90281390>\tname:embedding_2\n",
      "<keras.engine.topology.InputLayer object at 0x7fcd70676c50>\tname:input_3\n",
      "<keras.engine.topology.InputLayer object at 0x7fcd70676d30>\tname:input_4\n",
      "<keras.layers.recurrent.LSTM object at 0x7fcd90281588>\tname:lstm_2\n",
      "<keras.engine.topology.InputLayer object at 0x7fcd70676b38>\tname:input_5\n",
      "<keras.layers.merge.Dot object at 0x7fcd70677048>\tname:dot_2\n",
      "<keras.layers.core.Activation object at 0x7fcd7051ae10>\tname:attention\n",
      "<keras.layers.merge.Dot object at 0x7fcd70676e10>\tname:dot_3\n",
      "<keras.layers.merge.Concatenate object at 0x7fcd703e24a8>\tname:concatenate_1\n",
      "<keras.layers.core.Dense object at 0x7fcd90286b38>\tname:dense_1\n"
     ]
    }
   ],
   "source": [
    "layers = decoder_model.layers\n",
    "for l in layers:\n",
    "    print('%s\\tname:%s' % (str(l), l.name))\n",
    "    \n",
    "assert(model.layers[7] == model.get_layer('attention'))"
   ]
  },
  {
   "cell_type": "code",
   "execution_count": 41,
   "metadata": {
    "colab": {},
    "colab_type": "code",
    "id": "W1Djk_K4BUyJ"
   },
   "outputs": [
    {
     "name": "stdout",
     "output_type": "stream",
     "text": [
      "<keras.engine.training.Model object at 0x7fcd70676a90>\n",
      "[(None, None, 33771), (None, 1024), (None, 1024), (None, None, None)] [(None, None), (None, None, 1024), (None, 1024), (None, 1024)]\n",
      "____________________________________________________________________________________________________\n",
      "Layer (type)                     Output Shape          Param #     Connected to                     \n",
      "====================================================================================================\n",
      "input_2 (InputLayer)             (None, None)          0                                            \n",
      "____________________________________________________________________________________________________\n",
      "embedding_2 (Embedding)          (None, None, 256)     8645376     input_2[0][0]                    \n",
      "____________________________________________________________________________________________________\n",
      "input_3 (InputLayer)             (None, 1024)          0                                            \n",
      "____________________________________________________________________________________________________\n",
      "input_4 (InputLayer)             (None, 1024)          0                                            \n",
      "____________________________________________________________________________________________________\n",
      "lstm_2 (LSTM)                    [(None, None, 1024),  5246976     embedding_2[1][0]                \n",
      "                                                                   input_3[0][0]                    \n",
      "                                                                   input_4[0][0]                    \n",
      "____________________________________________________________________________________________________\n",
      "input_5 (InputLayer)             (None, None, 1024)    0                                            \n",
      "____________________________________________________________________________________________________\n",
      "dot_2 (Dot)                      (None, None, None)    0           lstm_2[1][0]                     \n",
      "                                                                   input_5[0][0]                    \n",
      "____________________________________________________________________________________________________\n",
      "attention (Activation)           (None, None, None)    0           dot_2[0][0]                      \n",
      "____________________________________________________________________________________________________\n",
      "dot_3 (Dot)                      (None, None, 1024)    0           attention[0][0]                  \n",
      "                                                                   input_5[0][0]                    \n",
      "____________________________________________________________________________________________________\n",
      "concatenate_1 (Concatenate)      (None, None, 2048)    0           dot_3[0][0]                      \n",
      "                                                                   lstm_2[1][0]                     \n",
      "____________________________________________________________________________________________________\n",
      "dense_1 (Dense)                  (None, None, 33771)   69196779    concatenate_1[0][0]              \n",
      "====================================================================================================\n",
      "Total params: 83,089,131\n",
      "Trainable params: 83,089,131\n",
      "Non-trainable params: 0\n",
      "____________________________________________________________________________________________________\n"
     ]
    }
   ],
   "source": [
    "attention_layer = decoder_model.get_layer('attention') # or model.layers[7]\n",
    "attention_model = Model(inputs=decoder_model.inputs, outputs=decoder_model.outputs + [attention_layer.output])\n",
    "\n",
    "print(attention_model)\n",
    "print(attention_model.output_shape, attention_model.input_shape)\n",
    "attention_model.summary()"
   ]
  },
  {
   "cell_type": "code",
   "execution_count": 45,
   "metadata": {
    "colab": {},
    "colab_type": "code",
    "id": "7Xvl-jxrBUyL"
   },
   "outputs": [],
   "source": [
    "def attent_and_generate(input_seq):\n",
    "    decoded_sentence = []\n",
    "    \n",
    "    [encoder_output, h, c] = encoder_model.predict(input_seq)\n",
    "    states_value = [h, c]\n",
    "    \n",
    "    target_seq = np.zeros((1,1))\n",
    "    target_seq[0, 0] = target_token_index['START_']\n",
    "    \n",
    "    stop_condition = False\n",
    "    attention_density = []\n",
    "    index = []\n",
    "    \n",
    "    while not stop_condition:\n",
    "        output_tokens, h, c, attention = attention_model.predict([target_seq, encoder_output] + states_value)\n",
    "        sampled_token_index = np.argmax(output_tokens[0, -1, :])\n",
    "        sampled_char = reverse_target_char_index[sampled_token_index]\n",
    "        decoded_sentence.append(sampled_char)\n",
    "    \n",
    "        if (sampled_char.endswith('_END')) or len(decoded_sentence) > 50:\n",
    "            stop_condition = True\n",
    "            \n",
    "        states_value = [h, c]\n",
    "        target_seq = np.zeros((1,1))\n",
    "        target_seq[0, 0] = sampled_token_index\n",
    "        attention_density.append((sampled_char, attention[0][0]))\n",
    "      \n",
    "    return np.array(attention_density), ' '.join(decoded_sentence)\n",
    "\n",
    "\n",
    "def visualize(text, encoder_input):\n",
    "    attention_weights, decoded_sent = attent_and_generate(encoder_input)\n",
    "    \n",
    "    plt.clf()\n",
    "    plt.figure(figsize=(10,10))\n",
    "    \n",
    "    mats = []\n",
    "    dec_inputs = []\n",
    "    for dec_ind, attn in attention_weights:\n",
    "        mats.append(attn[:len(text[0].split(' '))].reshape(-1))\n",
    "        dec_inputs.append(dec_ind)\n",
    "        \n",
    "    attention_mat = np.transpose(np.array(mats))\n",
    "    fig, ax = plt.subplots(figsize=(8, 8))\n",
    "    ax.imshow(attention_mat)\n",
    "    ax.set_xticks(np.arange(attention_mat.shape[1]))\n",
    "    ax.set_yticks(np.arange(attention_mat.shape[0]))\n",
    "\n",
    "    ax.set_xticklabels([inp for inp in dec_inputs])\n",
    "    ax.set_yticklabels([w for w in str(text[0]).split(' ')])\n",
    "\n",
    "    ax.tick_params(labelsize=15)\n",
    "    ax.tick_params(axis='x', labelrotation=90)\n",
    "\n",
    "    plt.show()\n",
    "    return decoded_sent"
   ]
  },
  {
   "cell_type": "code",
   "execution_count": 46,
   "metadata": {
    "colab": {},
    "colab_type": "code",
    "id": "8fUASyoHBUyN"
   },
   "outputs": [],
   "source": [
    "train_gen = generate_batch(X_train, y_train, batch_size = 1)\n",
    "k=-1"
   ]
  },
  {
   "cell_type": "code",
   "execution_count": 47,
   "metadata": {
    "colab": {},
    "colab_type": "code",
    "id": "6fwqJfEwBUyP"
   },
   "outputs": [
    {
     "name": "stdout",
     "output_type": "stream",
     "text": [
      "['cars made in japan are used all over the world']\n"
     ]
    },
    {
     "data": {
      "text/plain": [
       "<Figure size 432x288 with 0 Axes>"
      ]
     },
     "metadata": {},
     "output_type": "display_data"
    },
    {
     "data": {
      "text/plain": [
       "<Figure size 720x720 with 0 Axes>"
      ]
     },
     "metadata": {},
     "output_type": "display_data"
    },
    {
     "data": {
      "image/png": "[encoded data removed]",
      "text/plain": [
       "<Figure size 576x576 with 1 Axes>"
      ]
     },
     "metadata": {
      "needs_background": "light"
     },
     "output_type": "display_data"
    },
    {
     "name": "stdout",
     "output_type": "stream",
     "text": [
      "Input English Sentence: cars made in japan are used all over the world\n",
      "Actual spanish:  en todo el mundo se usan autos fabricados en japon\n",
      "Predicted spanish: en todo el mundo se los autos de autos en japon\n"
     ]
    }
   ],
   "source": [
    "k+=1\n",
    "(encoder_input, actual_output), _ = next(train_gen)\n",
    "print(X_train[k:k+1])\n",
    "decoded_sent = visualize(X_train[k:k+1], encoder_input)\n",
    "\n",
    "# Translation of Prediction from Google Translator: all over the world are the cars in japan\n",
    "print('Input English Sentence:', X_train[k:k+1][0])\n",
    "print('Actual spanish:', y_train[k:k+1][0][6:-4])\n",
    "print('Predicted spanish:', decoded_sent[:-4])"
   ]
  },
  {
   "cell_type": "code",
   "execution_count": 48,
   "metadata": {
    "colab": {},
    "colab_type": "code",
    "id": "Cy-0X-xs7tZw"
   },
   "outputs": [
    {
     "name": "stdout",
     "output_type": "stream",
     "text": [
      "['i did everything for you']\n"
     ]
    },
    {
     "data": {
      "text/plain": [
       "<Figure size 432x288 with 0 Axes>"
      ]
     },
     "metadata": {},
     "output_type": "display_data"
    },
    {
     "data": {
      "text/plain": [
       "<Figure size 720x720 with 0 Axes>"
      ]
     },
     "metadata": {},
     "output_type": "display_data"
    },
    {
     "data": {
      "image/png": "[encoded data removed]",
      "text/plain": [
       "<Figure size 576x576 with 1 Axes>"
      ]
     },
     "metadata": {
      "needs_background": "light"
     },
     "output_type": "display_data"
    },
    {
     "name": "stdout",
     "output_type": "stream",
     "text": [
      "Input English Sentence: i did everything for you\n",
      "Actual spanish:  te lo di todo\n",
      "Predicted spanish: lo hice todo por ti\n"
     ]
    }
   ],
   "source": [
    "k+=1\n",
    "(encoder_input, actual_output), _ = next(train_gen)\n",
    "print(X_train[k:k+1])\n",
    "decoded_sent = visualize(X_train[k:k+1], encoder_input)\n",
    "\n",
    "# Translation of Prediction from Google Translator: I did everything for you\n",
    "print('Input English Sentence:', X_train[k:k+1][0])\n",
    "print('Actual spanish:', y_train[k:k+1][0][6:-4])\n",
    "print('Predicted spanish:', decoded_sent[:-4])"
   ]
  },
  {
   "cell_type": "code",
   "execution_count": 50,
   "metadata": {},
   "outputs": [
    {
     "name": "stdout",
     "output_type": "stream",
     "text": [
      "['tom and mary are not talking to one another']\n"
     ]
    },
    {
     "data": {
      "text/plain": [
       "<Figure size 432x288 with 0 Axes>"
      ]
     },
     "metadata": {},
     "output_type": "display_data"
    },
    {
     "data": {
      "text/plain": [
       "<Figure size 720x720 with 0 Axes>"
      ]
     },
     "metadata": {},
     "output_type": "display_data"
    },
    {
     "data": {
      "image/png": "[encoded data removed]",
      "text/plain": [
       "<Figure size 576x576 with 1 Axes>"
      ]
     },
     "metadata": {
      "needs_background": "light"
     },
     "output_type": "display_data"
    },
    {
     "name": "stdout",
     "output_type": "stream",
     "text": [
      "Input English Sentence: tom and mary are not talking to one another\n",
      "Actual spanish:  tom y mary ya no se hablan\n",
      "Predicted spanish: tom y mary ya no se hablan uno al otro\n"
     ]
    }
   ],
   "source": [
    "k+=1\n",
    "(encoder_input, actual_output), _ = next(train_gen)\n",
    "print(X_train[k:k+1])\n",
    "decoded_sent = visualize(X_train[k:k+1], encoder_input)\n",
    "\n",
    "# Translation of Prediction from Google Translator: Tom and Mary no longer talk to each other\n",
    "print('Input English Sentence:', X_train[k:k+1][0])\n",
    "print('Actual spanish:', y_train[k:k+1][0][6:-4])\n",
    "print('Predicted spanish:', decoded_sent[:-4])"
   ]
  },
  {
   "cell_type": "code",
   "execution_count": 51,
   "metadata": {},
   "outputs": [
    {
     "name": "stdout",
     "output_type": "stream",
     "text": [
      "['tom is the happiest person in the world right now']\n"
     ]
    },
    {
     "data": {
      "text/plain": [
       "<Figure size 432x288 with 0 Axes>"
      ]
     },
     "metadata": {},
     "output_type": "display_data"
    },
    {
     "data": {
      "text/plain": [
       "<Figure size 720x720 with 0 Axes>"
      ]
     },
     "metadata": {},
     "output_type": "display_data"
    },
    {
     "data": {
      "image/png": "[encoded data removed]",
      "text/plain": [
       "<Figure size 576x576 with 1 Axes>"
      ]
     },
     "metadata": {
      "needs_background": "light"
     },
     "output_type": "display_data"
    },
    {
     "name": "stdout",
     "output_type": "stream",
     "text": [
      "Input English Sentence: tom is the happiest person in the world right now\n",
      "Actual spanish:  ahora mismo tom es la persona mas feliz del mundo\n",
      "Predicted spanish: tom es la persona mas feliz del mundo en el mundo ahora\n"
     ]
    }
   ],
   "source": [
    "k+=1\n",
    "(encoder_input, actual_output), _ = next(train_gen)\n",
    "print(X_train[k:k+1])\n",
    "decoded_sent = visualize(X_train[k:k+1], encoder_input)\n",
    "\n",
    "# Translation of Prediction from Google Translator: Tom is the happiest person in the world in the world now\n",
    "print('Input English Sentence:', X_train[k:k+1][0])\n",
    "print('Actual spanish:', y_train[k:k+1][0][6:-4])\n",
    "print('Predicted spanish:', decoded_sent[:-4])"
   ]
  },
  {
   "cell_type": "code",
   "execution_count": 52,
   "metadata": {},
   "outputs": [
    {
     "name": "stdout",
     "output_type": "stream",
     "text": [
      "['ive been taking dancing lessons']\n"
     ]
    },
    {
     "data": {
      "text/plain": [
       "<Figure size 432x288 with 0 Axes>"
      ]
     },
     "metadata": {},
     "output_type": "display_data"
    },
    {
     "data": {
      "text/plain": [
       "<Figure size 720x720 with 0 Axes>"
      ]
     },
     "metadata": {},
     "output_type": "display_data"
    },
    {
     "data": {
      "image/png": "[encoded data removed]",
      "text/plain": [
       "<Figure size 576x576 with 1 Axes>"
      ]
     },
     "metadata": {
      "needs_background": "light"
     },
     "output_type": "display_data"
    },
    {
     "name": "stdout",
     "output_type": "stream",
     "text": [
      "Input English Sentence: ive been taking dancing lessons\n",
      "Actual spanish:  he estado tomando clases de baile\n",
      "Predicted spanish: he estado tomando clases de manzana\n"
     ]
    }
   ],
   "source": [
    "k+=1\n",
    "(encoder_input, actual_output), _ = next(train_gen)\n",
    "print(X_train[k:k+1])\n",
    "decoded_sent = visualize(X_train[k:k+1], encoder_input)\n",
    "\n",
    "# Translation of Prediction from Google Translator: I've been taking apple classes\n",
    "print('Input English Sentence:', X_train[k:k+1][0])\n",
    "print('Actual spanish:', y_train[k:k+1][0][6:-4])\n",
    "print('Predicted spanish:', decoded_sent[:-4])"
   ]
  },
  {
   "cell_type": "code",
   "execution_count": 54,
   "metadata": {},
   "outputs": [
    {
     "name": "stdout",
     "output_type": "stream",
     "text": [
      "['the dog is beautiful']\n"
     ]
    },
    {
     "data": {
      "text/plain": [
       "<Figure size 432x288 with 0 Axes>"
      ]
     },
     "metadata": {},
     "output_type": "display_data"
    },
    {
     "data": {
      "text/plain": [
       "<Figure size 720x720 with 0 Axes>"
      ]
     },
     "metadata": {},
     "output_type": "display_data"
    },
    {
     "data": {
      "image/png": "[encoded data removed]",
      "text/plain": [
       "<Figure size 576x576 with 1 Axes>"
      ]
     },
     "metadata": {
      "needs_background": "light"
     },
     "output_type": "display_data"
    },
    {
     "name": "stdout",
     "output_type": "stream",
     "text": [
      "Input English Sentence: the dog is beautiful\n",
      "Actual spanish:  el perro es hermoso\n",
      "Predicted spanish: el perro es hermoso\n"
     ]
    }
   ],
   "source": [
    "k+=1\n",
    "(encoder_input, actual_output), _ = next(train_gen)\n",
    "print(X_train[k:k+1])\n",
    "decoded_sent = visualize(X_train[k:k+1], encoder_input)\n",
    "\n",
    "# Translation of Prediction from Google Translator: the dog is beautiful\n",
    "print('Input English Sentence:', X_train[k:k+1][0])\n",
    "print('Actual spanish:', y_train[k:k+1][0][6:-4])\n",
    "print('Predicted spanish:', decoded_sent[:-4])"
   ]
  },
  {
   "cell_type": "code",
   "execution_count": 56,
   "metadata": {},
   "outputs": [
    {
     "name": "stdout",
     "output_type": "stream",
     "text": [
      "['tom is able to walk on his hands']\n"
     ]
    },
    {
     "data": {
      "text/plain": [
       "<Figure size 432x288 with 0 Axes>"
      ]
     },
     "metadata": {},
     "output_type": "display_data"
    },
    {
     "data": {
      "text/plain": [
       "<Figure size 720x720 with 0 Axes>"
      ]
     },
     "metadata": {},
     "output_type": "display_data"
    },
    {
     "data": {
      "image/png": "[encoded data removed]",
      "text/plain": [
       "<Figure size 576x576 with 1 Axes>"
      ]
     },
     "metadata": {
      "needs_background": "light"
     },
     "output_type": "display_data"
    },
    {
     "name": "stdout",
     "output_type": "stream",
     "text": [
      "Input English Sentence: tom is able to walk on his hands\n",
      "Actual spanish:  tom es capaz de andar con las manos\n",
      "Predicted spanish: tom es capaz de andar sobre las manos\n"
     ]
    }
   ],
   "source": [
    "k+=1\n",
    "(encoder_input, actual_output), _ = next(train_gen)\n",
    "print(X_train[k:k+1])\n",
    "decoded_sent = visualize(X_train[k:k+1], encoder_input)\n",
    "\n",
    "# Translation of Prediction from Google Translator: Tom is able to walk on his hands\n",
    "print('Input English Sentence:', X_train[k:k+1][0])\n",
    "print('Actual spanish:', y_train[k:k+1][0][6:-4])\n",
    "print('Predicted spanish:', decoded_sent[:-4])"
   ]
  },
  {
   "cell_type": "code",
   "execution_count": 57,
   "metadata": {},
   "outputs": [
    {
     "name": "stdout",
     "output_type": "stream",
     "text": [
      "['thats my dress']\n"
     ]
    },
    {
     "data": {
      "text/plain": [
       "<Figure size 432x288 with 0 Axes>"
      ]
     },
     "metadata": {},
     "output_type": "display_data"
    },
    {
     "data": {
      "text/plain": [
       "<Figure size 720x720 with 0 Axes>"
      ]
     },
     "metadata": {},
     "output_type": "display_data"
    },
    {
     "data": {
      "image/png": "[encoded data removed]",
      "text/plain": [
       "<Figure size 576x576 with 1 Axes>"
      ]
     },
     "metadata": {
      "needs_background": "light"
     },
     "output_type": "display_data"
    },
    {
     "name": "stdout",
     "output_type": "stream",
     "text": [
      "Input English Sentence: thats my dress\n",
      "Actual spanish:  ese es mi vestido\n",
      "Predicted spanish: ese es mi vestido\n"
     ]
    }
   ],
   "source": [
    "k+=1\n",
    "(encoder_input, actual_output), _ = next(train_gen)\n",
    "print(X_train[k:k+1])\n",
    "decoded_sent = visualize(X_train[k:k+1], encoder_input)\n",
    "\n",
    "# Translation of Prediction from Google Translator: that is my dress\n",
    "print('Input English Sentence:', X_train[k:k+1][0])\n",
    "print('Actual spanish:', y_train[k:k+1][0][6:-4])\n",
    "print('Predicted spanish:', decoded_sent[:-4])"
   ]
  },
  {
   "cell_type": "code",
   "execution_count": 62,
   "metadata": {},
   "outputs": [
    {
     "name": "stdout",
     "output_type": "stream",
     "text": [
      "['mary really takes after her mother']\n"
     ]
    },
    {
     "data": {
      "text/plain": [
       "<Figure size 432x288 with 0 Axes>"
      ]
     },
     "metadata": {},
     "output_type": "display_data"
    },
    {
     "data": {
      "text/plain": [
       "<Figure size 720x720 with 0 Axes>"
      ]
     },
     "metadata": {},
     "output_type": "display_data"
    },
    {
     "data": {
      "image/png": "[encoded data removed]",
      "text/plain": [
       "<Figure size 576x576 with 1 Axes>"
      ]
     },
     "metadata": {
      "needs_background": "light"
     },
     "output_type": "display_data"
    },
    {
     "name": "stdout",
     "output_type": "stream",
     "text": [
      "Input English Sentence: mary really takes after her mother\n",
      "Actual spanish:  mary se parece mucho a su madre\n",
      "Predicted spanish: mary se parece mucho a su madre\n"
     ]
    }
   ],
   "source": [
    "k+=1\n",
    "(encoder_input, actual_output), _ = next(train_gen)\n",
    "print(X_train[k:k+1])\n",
    "decoded_sent = visualize(X_train[k:k+1], encoder_input)\n",
    "\n",
    "# Translation of Prediction from Google Translator: Mary looks a lot like her mother\n",
    "print('Input English Sentence:', X_train[k:k+1][0])\n",
    "print('Actual spanish:', y_train[k:k+1][0][6:-4])\n",
    "print('Predicted spanish:', decoded_sent[:-4])"
   ]
  },
  {
   "cell_type": "code",
   "execution_count": 65,
   "metadata": {},
   "outputs": [
    {
     "name": "stdout",
     "output_type": "stream",
     "text": [
      "['tom asked mary to call him after dinner']\n"
     ]
    },
    {
     "data": {
      "text/plain": [
       "<Figure size 432x288 with 0 Axes>"
      ]
     },
     "metadata": {},
     "output_type": "display_data"
    },
    {
     "data": {
      "text/plain": [
       "<Figure size 720x720 with 0 Axes>"
      ]
     },
     "metadata": {},
     "output_type": "display_data"
    },
    {
     "data": {
      "image/png": "[encoded data removed]",
      "text/plain": [
       "<Figure size 576x576 with 1 Axes>"
      ]
     },
     "metadata": {
      "needs_background": "light"
     },
     "output_type": "display_data"
    },
    {
     "name": "stdout",
     "output_type": "stream",
     "text": [
      "Input English Sentence: tom asked mary to call him after dinner\n",
      "Actual spanish:  tom le pidio a maria que lo llamara despues de la cena\n",
      "Predicted spanish: tom le pidio a maria que le llamara despues de la cena\n"
     ]
    }
   ],
   "source": [
    "k+=1\n",
    "(encoder_input, actual_output), _ = next(train_gen)\n",
    "print(X_train[k:k+1])\n",
    "decoded_sent = visualize(X_train[k:k+1], encoder_input)\n",
    "\n",
    "# Translation of Prediction from Google Translator: Tom asked Maria to call him after dinner\n",
    "print('Input English Sentence:', X_train[k:k+1][0])\n",
    "print('Actual spanish:', y_train[k:k+1][0][6:-4])\n",
    "print('Predicted spanish:', decoded_sent[:-4])"
   ]
  },
  {
   "cell_type": "code",
   "execution_count": 66,
   "metadata": {},
   "outputs": [
    {
     "name": "stdout",
     "output_type": "stream",
     "text": [
      "['i have no money to buy the book with']\n"
     ]
    },
    {
     "data": {
      "text/plain": [
       "<Figure size 432x288 with 0 Axes>"
      ]
     },
     "metadata": {},
     "output_type": "display_data"
    },
    {
     "data": {
      "text/plain": [
       "<Figure size 720x720 with 0 Axes>"
      ]
     },
     "metadata": {},
     "output_type": "display_data"
    },
    {
     "data": {
      "image/png": "[encoded data removed]",
      "text/plain": [
       "<Figure size 576x576 with 1 Axes>"
      ]
     },
     "metadata": {
      "needs_background": "light"
     },
     "output_type": "display_data"
    },
    {
     "name": "stdout",
     "output_type": "stream",
     "text": [
      "Input English Sentence: i have no money to buy the book with\n",
      "Actual spanish:  no tengo dinero para comprar ese libro\n",
      "Predicted spanish: no tengo dinero para comprar el libro\n"
     ]
    }
   ],
   "source": [
    "k+=1\n",
    "(encoder_input, actual_output), _ = next(train_gen)\n",
    "print(X_train[k:k+1])\n",
    "decoded_sent = visualize(X_train[k:k+1], encoder_input)\n",
    "\n",
    "# Translation of Prediction from Google Translator: I do not have money to buy the book\n",
    "print('Input English Sentence:', X_train[k:k+1][0])\n",
    "print('Actual spanish:', y_train[k:k+1][0][6:-4])\n",
    "print('Predicted spanish:', decoded_sent[:-4])"
   ]
  },
  {
   "cell_type": "code",
   "execution_count": 67,
   "metadata": {},
   "outputs": [
    {
     "name": "stdout",
     "output_type": "stream",
     "text": [
      "['his name is known to everyone in this town']\n"
     ]
    },
    {
     "data": {
      "text/plain": [
       "<Figure size 432x288 with 0 Axes>"
      ]
     },
     "metadata": {},
     "output_type": "display_data"
    },
    {
     "data": {
      "text/plain": [
       "<Figure size 720x720 with 0 Axes>"
      ]
     },
     "metadata": {},
     "output_type": "display_data"
    },
    {
     "data": {
      "image/png": "[encoded data removed]",
      "text/plain": [
       "<Figure size 576x576 with 1 Axes>"
      ]
     },
     "metadata": {
      "needs_background": "light"
     },
     "output_type": "display_data"
    },
    {
     "name": "stdout",
     "output_type": "stream",
     "text": [
      "Input English Sentence: his name is known to everyone in this town\n",
      "Actual spanish:  su nombre es conocido por todos en esta ciudad\n",
      "Predicted spanish: su nombre es conocido por todos en esta ciudad\n"
     ]
    }
   ],
   "source": [
    "k+=1\n",
    "(encoder_input, actual_output), _ = next(train_gen)\n",
    "print(X_train[k:k+1])\n",
    "decoded_sent = visualize(X_train[k:k+1], encoder_input)\n",
    "\n",
    "# Translation of Prediction from Google Translator: his name is known by everyone in this city\n",
    "print('Input English Sentence:', X_train[k:k+1][0])\n",
    "print('Actual spanish:', y_train[k:k+1][0][6:-4])\n",
    "print('Predicted spanish:', decoded_sent[:-4])"
   ]
  },
  {
   "cell_type": "code",
   "execution_count": 74,
   "metadata": {},
   "outputs": [
    {
     "name": "stdout",
     "output_type": "stream",
     "text": [
      "['what time is tom coming']\n"
     ]
    },
    {
     "data": {
      "text/plain": [
       "<Figure size 432x288 with 0 Axes>"
      ]
     },
     "metadata": {},
     "output_type": "display_data"
    },
    {
     "data": {
      "text/plain": [
       "<Figure size 720x720 with 0 Axes>"
      ]
     },
     "metadata": {},
     "output_type": "display_data"
    },
    {
     "data": {
      "image/png": "[encoded data removed]",
      "text/plain": [
       "<Figure size 576x576 with 1 Axes>"
      ]
     },
     "metadata": {
      "needs_background": "light"
     },
     "output_type": "display_data"
    },
    {
     "name": "stdout",
     "output_type": "stream",
     "text": [
      "Input English Sentence: what time is tom coming\n",
      "Actual spanish:  a que hora viene tomas\n",
      "Predicted spanish: a que hora viene tomas\n"
     ]
    }
   ],
   "source": [
    "k+=1\n",
    "(encoder_input, actual_output), _ = next(train_gen)\n",
    "print(X_train[k:k+1])\n",
    "decoded_sent = visualize(X_train[k:k+1], encoder_input)\n",
    "\n",
    "# Translation of Prediction from Google Translator: what time do you come in\n",
    "print('Input English Sentence:', X_train[k:k+1][0])\n",
    "print('Actual spanish:', y_train[k:k+1][0][6:-4])\n",
    "print('Predicted spanish:', decoded_sent[:-4])"
   ]
  },
  {
   "cell_type": "code",
   "execution_count": 82,
   "metadata": {},
   "outputs": [
    {
     "name": "stdout",
     "output_type": "stream",
     "text": [
      "['i come home from work about seven every day']\n"
     ]
    },
    {
     "data": {
      "text/plain": [
       "<Figure size 432x288 with 0 Axes>"
      ]
     },
     "metadata": {},
     "output_type": "display_data"
    },
    {
     "data": {
      "text/plain": [
       "<Figure size 720x720 with 0 Axes>"
      ]
     },
     "metadata": {},
     "output_type": "display_data"
    },
    {
     "data": {
      "image/png": "[encoded data removed]",
      "text/plain": [
       "<Figure size 576x576 with 1 Axes>"
      ]
     },
     "metadata": {
      "needs_background": "light"
     },
     "output_type": "display_data"
    },
    {
     "name": "stdout",
     "output_type": "stream",
     "text": [
      "Input English Sentence: i come home from work about seven every day\n",
      "Actual spanish:  regreso a casa del trabajo a eso de las siete todos los dias\n",
      "Predicted spanish: llegue a la casa del trabajo a las siete de las siete del dia\n"
     ]
    }
   ],
   "source": [
    "k+=1\n",
    "(encoder_input, actual_output), _ = next(train_gen)\n",
    "print(X_train[k:k+1])\n",
    "decoded_sent = visualize(X_train[k:k+1], encoder_input)\n",
    "\n",
    "# Translation of Prediction from Google Translator: arrive at the house of work at seven o'clock seven o'clock\n",
    "print('Input English Sentence:', X_train[k:k+1][0])\n",
    "print('Actual spanish:', y_train[k:k+1][0][6:-4])\n",
    "print('Predicted spanish:', decoded_sent[:-4])"
   ]
  },
  {
   "cell_type": "code",
   "execution_count": null,
   "metadata": {},
   "outputs": [],
   "source": []
  }
 ],
 "metadata": {
  "accelerator": "GPU",
  "colab": {
   "collapsed_sections": [],
   "name": "NMT-Training-Inference.ipynb",
   "provenance": [],
   "version": "0.3.2"
  },
  "kernelspec": {
   "display_name": "Python 3",
   "language": "python",
   "name": "python3"
  },
  "language_info": {
   "codemirror_mode": {
    "name": "ipython",
    "version": 3
   },
   "file_extension": ".py",
   "mimetype": "text/x-python",
   "name": "python",
   "nbconvert_exporter": "python",
   "pygments_lexer": "ipython3",
   "version": "3.6.7"
  }
 },
 "nbformat": 4,
 "nbformat_minor": 1
}
